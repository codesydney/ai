{
 "cells": [
  {
   "cell_type": "code",
   "execution_count": 1,
   "metadata": {},
   "outputs": [
    {
     "name": "stdout",
     "output_type": "stream",
     "text": [
      "Python 3.12.2\n"
     ]
    }
   ],
   "source": [
    "! python --version"
   ]
  },
  {
   "cell_type": "code",
   "execution_count": 2,
   "metadata": {},
   "outputs": [],
   "source": [
    "%%capture\n",
    "! pip install llama-index-core llama-index llama-index-llms-lmstudio"
   ]
  },
  {
   "cell_type": "code",
   "execution_count": 1,
   "metadata": {},
   "outputs": [],
   "source": [
    "import nest_asyncio\n",
    "\n",
    "nest_asyncio.apply()"
   ]
  },
  {
   "cell_type": "code",
   "execution_count": 7,
   "metadata": {},
   "outputs": [
    {
     "name": "stdout",
     "output_type": "stream",
     "text": [
      "The answer to 2 + 2 is 4! Would you like me to help with anything else or can I assist you in solving a math problem or completing a task?\n"
     ]
    }
   ],
   "source": [
    "from llama_index.llms.lmstudio import LMStudio\n",
    "from llama_index.core.base.llms.types import ChatMessage, MessageRole\n",
    "\n",
    "llm = LMStudio(\n",
    "    model_name=\"lmstudio-community/Meta-Llama-3.1-8B-Instruct-GGUF\",\n",
    "    base_url=\"http://localhost:1234/v1\",\n",
    "    temperature=0,\n",
    "    # request_timeout=100, ## set this parameter to increase request time out if you're getting a 'request timed out' error\n",
    ")\n",
    "\n",
    "response = llm.complete(\"Hey there, what is 2+2?\")\n",
    "print(str(response))\n"
   ]
  },
  {
   "cell_type": "code",
   "execution_count": 8,
   "metadata": {},
   "outputs": [
    {
     "name": "stdout",
     "output_type": "stream",
     "text": [
      "The answer is 10."
     ]
    }
   ],
   "source": [
    "# use llm.stream_complete\n",
    "response = llm.stream_complete(\"What is 7+3?\")\n",
    "for r in response:\n",
    "    print(r.delta, end=\"\")\n",
    "    \n"
   ]
  },
  {
   "cell_type": "code",
   "execution_count": 9,
   "metadata": {},
   "outputs": [
    {
     "name": "stdout",
     "output_type": "stream",
     "text": [
      "assistant: The significance of the number 42!\n",
      "\n",
      "This is a famous reference from Douglas Adams' science fiction series \"The Hitchhiker's Guide to the Galaxy.\" In the book, a supercomputer named Deep Thought is asked to calculate the \"Answer to the Ultimate Question of Life, the Universe, and Everything.\" After thinking for 7.5 million years, Deep Thought finally reveals that the answer is... 42!\n",
      "\n",
      "However, the number 42 itself has become a cultural phenomenon, symbolizing the search for meaning and answers to life's big questions. It has been interpreted in various ways, including:\n",
      "\n",
      "1. **Absurdity**: The number 42 represents the absurdity of seeking a single, definitive answer to life's mysteries.\n",
      "2. **Humor**: Adams' use of 42 as the \"Answer\" was meant to be humorous and satirical, poking fun at the idea that science could ever provide a simple solution to complex problems.\n",
      "3. **Pop culture reference**: The number 42 has become a meme and a cultural touchstone, often used to represent the search for meaning or to humorously indicate the futility of seeking answers.\n",
      "4. **Mathematical significance**: Interestingly, 42 is also a mathematically significant number in several areas, including algebra (the number of vertices in a regular dodecagon), geometry (the number of sides in a dodecahedron), and physics (related to the structure of certain crystals).\n",
      "\n",
      "In conclusion, while the number 42 may not hold any profound or secret meaning, it has become an enduring symbol of the search for answers, humor, and cultural relevance.\n"
     ]
    }
   ],
   "source": [
    "messages = [\n",
    "    ChatMessage(\n",
    "        role=MessageRole.SYSTEM,\n",
    "        content=\"You an expert AI assistant. Help User with their queries.\",\n",
    "    ),\n",
    "    ChatMessage(\n",
    "        role=MessageRole.USER,\n",
    "        content=\"What is the significance of the number 42?\",\n",
    "    ),\n",
    "]\n",
    "\n",
    "response = llm.chat(messages=messages)\n",
    "print(str(response))"
   ]
  },
  {
   "cell_type": "code",
   "execution_count": 10,
   "metadata": {},
   "outputs": [
    {
     "name": "stdout",
     "output_type": "stream",
     "text": [
      "A question that has puzzled and intrigued many!\n",
      "\n",
      "The significance of the number 42 is a topic of much debate, but its origins can be attributed to Douglas Adams' science fiction series \"The Hitchhiker's Guide to the Galaxy.\" In the book, a supercomputer named Deep Thought is asked to find the \"Answer to the Ultimate Question of Life, the Universe, and Everything.\" After thinking for 7.5 million years, Deep Thought reveals that the answer is indeed... 42.\n",
      "\n",
      "However, this number has since become a cultural phenomenon, often referred to as a joke or an inside reference. Many people interpret it as:\n",
      "\n",
      "1. **The Ultimate Answer**: As stated in the book, 42 is meant to be the definitive answer to all life's mysteries.\n",
      "2. **A Symbol of Insignificance**: By making 42 the \"answer\" to everything, Adams pokes fun at our tendency to seek simple solutions to complex problems.\n",
      "3. **A Representation of Humor and Nonsense**: The absurdity of using a single number as the ultimate answer has become synonymous with the book's comedic style.\n",
      "\n",
      "Outside of \"The Hitchhiker's Guide to the Galaxy\" universe, the number 42 has no specific mathematical or scientific significance. However, it has become a popular meme and cultural reference, often used to add humor or irony to conversations about science, philosophy, or life in general.\n",
      "\n",
      "So, what does this mean? Well, if someone asks you \"The Answer to the Ultimate Question of Life, the Universe, and Everything\" and you're stumped... just tell them 42!"
     ]
    }
   ],
   "source": [
    "response = llm.stream_chat(messages=messages)\n",
    "for r in response:\n",
    "    print(r.delta, end=\"\")"
   ]
  },
  {
   "cell_type": "code",
   "execution_count": null,
   "metadata": {},
   "outputs": [],
   "source": []
  }
 ],
 "metadata": {
  "kernelspec": {
   "display_name": ".venv",
   "language": "python",
   "name": "python3"
  },
  "language_info": {
   "codemirror_mode": {
    "name": "ipython",
    "version": 3
   },
   "file_extension": ".py",
   "mimetype": "text/x-python",
   "name": "python",
   "nbconvert_exporter": "python",
   "pygments_lexer": "ipython3",
   "version": "3.12.2"
  }
 },
 "nbformat": 4,
 "nbformat_minor": 2
}
