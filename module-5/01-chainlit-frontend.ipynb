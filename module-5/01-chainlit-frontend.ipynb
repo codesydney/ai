{
 "cells": [
  {
   "cell_type": "code",
   "execution_count": 2,
   "metadata": {},
   "outputs": [
    {
     "name": "stdout",
     "output_type": "stream",
     "text": [
      "Python 3.12.2\n"
     ]
    }
   ],
   "source": [
    "! python --version"
   ]
  },
  {
   "cell_type": "code",
   "execution_count": 10,
   "metadata": {},
   "outputs": [],
   "source": [
    "%%capture\n",
    "! pip install --upgrade pip\n",
    "! pip install chainlit\n",
    "! pip install llama-index-core llama-index llama-index-llms-lmstudio"
   ]
  },
  {
   "cell_type": "code",
   "execution_count": 11,
   "metadata": {},
   "outputs": [
    {
     "name": "stdout",
     "output_type": "stream",
     "text": [
      "mkdir: data: File exists\n",
      "--2024-07-23 21:56:34--  https://arxiv.org/pdf/1706.03762.pdf\n",
      "Resolving arxiv.org (arxiv.org)... 151.101.3.42, 151.101.131.42, 151.101.195.42, ...\n",
      "Connecting to arxiv.org (arxiv.org)|151.101.3.42|:443... connected.\n",
      "HTTP request sent, awaiting response... 301 Moved Permanently\n",
      "Location: http://arxiv.org/pdf/1706.03762 [following]\n",
      "--2024-07-23 21:56:36--  http://arxiv.org/pdf/1706.03762\n",
      "Connecting to arxiv.org (arxiv.org)|151.101.3.42|:80... connected.\n",
      "HTTP request sent, awaiting response... 200 OK\n",
      "Length: 2215244 (2.1M) [application/pdf]\n",
      "Saving to: ‘data/Attention_Is_All_You_Need.pdf’\n",
      "\n",
      "data/Attention_Is_A 100%[===================>]   2.11M  4.95MB/s    in 0.4s    \n",
      "\n",
      "2024-07-23 21:56:36 (4.95 MB/s) - ‘data/Attention_Is_All_You_Need.pdf’ saved [2215244/2215244]\n",
      "\n"
     ]
    }
   ],
   "source": [
    "! mkdir data\n",
    "! wget --user-agent \"Mozilla\" \"https://arxiv.org/pdf/1706.03762.pdf\" -O \"data/Attention_Is_All_You_Need.pdf\""
   ]
  },
  {
   "cell_type": "code",
   "execution_count": null,
   "metadata": {},
   "outputs": [],
   "source": []
  }
 ],
 "metadata": {
  "kernelspec": {
   "display_name": ".venv",
   "language": "python",
   "name": "python3"
  },
  "language_info": {
   "codemirror_mode": {
    "name": "ipython",
    "version": 3
   },
   "file_extension": ".py",
   "mimetype": "text/x-python",
   "name": "python",
   "nbconvert_exporter": "python",
   "pygments_lexer": "ipython3",
   "version": "3.12.2"
  }
 },
 "nbformat": 4,
 "nbformat_minor": 2
}
